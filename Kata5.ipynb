{
 "cells": [
  {
   "cell_type": "markdown",
   "metadata": {},
   "source": [
    "# Ejercicio 1\n",
    "Utilizando operadores aritméticos"
   ]
  },
  {
   "cell_type": "code",
   "execution_count": 23,
   "metadata": {},
   "outputs": [],
   "source": [
    "# Crear variables para almacenar las dos distancias\n",
    "distancia_tierra= 149597870\n",
    "distancia_jupiter= 778547200"
   ]
  },
  {
   "cell_type": "code",
   "execution_count": 24,
   "metadata": {},
   "outputs": [
    {
     "name": "stdout",
     "output_type": "stream",
     "text": [
      "628949330\n",
      "685646922.73\n"
     ]
    }
   ],
   "source": [
    "# Calcular las distancias entre planeatas en km y mi\n",
    "distancia_km= distancia_jupiter-distancia_tierra\n",
    "print(distancia_km)\n",
    "\n",
    "distancia_mi= distancia_jupiter-distancia_tierra*0.621\n",
    "print(distancia_mi)"
   ]
  },
  {
   "cell_type": "markdown",
   "metadata": {},
   "source": [
    "# Ejercicio 2\n",
    "Convirtiendo cadenas en números y valores absolutos"
   ]
  },
  {
   "cell_type": "code",
   "execution_count": 25,
   "metadata": {},
   "outputs": [],
   "source": [
    "# Almacenar las entradas del usuario\n",
    "variable1 = input(\"Escriba la distancia del planeta 1\")\n",
    "variable2 = input(\"Escriba la distancia del planeta 2\")"
   ]
  },
  {
   "cell_type": "code",
   "execution_count": 26,
   "metadata": {},
   "outputs": [],
   "source": [
    "# Convierte las cadenas de ambos planetas a números enteros\n",
    "variable1= int(variable1)\n",
    "variable2= int(variable2)"
   ]
  },
  {
   "cell_type": "code",
   "execution_count": 27,
   "metadata": {},
   "outputs": [
    {
     "name": "stdout",
     "output_type": "stream",
     "text": [
      "0\n",
      "22581000.0\n"
     ]
    }
   ],
   "source": [
    "# Realizar el cálculo y determinar el valor absoluto\n",
    "distancia_enkm=variable2-variable1\n",
    "print(abs(distancia_enkm))\n",
    "\n",
    "# Convertir de KM a Millas\n",
    "distancia_enmi= variable2-variable1*0.61\n",
    "print(abs(distancia_enmi))"
   ]
  }
 ],
 "metadata": {
  "interpreter": {
   "hash": "0bbe4951efe44d9315ce2c015a8c346c945696cc5782d364813f043959bff0b3"
  },
  "kernelspec": {
   "display_name": "Python 3.10.2 64-bit",
   "language": "python",
   "name": "python3"
  },
  "language_info": {
   "codemirror_mode": {
    "name": "ipython",
    "version": 3
   },
   "file_extension": ".py",
   "mimetype": "text/x-python",
   "name": "python",
   "nbconvert_exporter": "python",
   "pygments_lexer": "ipython3",
   "version": "3.10.2"
  },
  "orig_nbformat": 4
 },
 "nbformat": 4,
 "nbformat_minor": 2
}
