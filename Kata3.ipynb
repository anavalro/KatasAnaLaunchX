{
 "cells": [
  {
   "cell_type": "markdown",
   "metadata": {},
   "source": [
    "# Alarma de Asteroide\n",
    "Usando lógico Booleana"
   ]
  },
  {
   "cell_type": "code",
   "execution_count": 8,
   "metadata": {},
   "outputs": [
    {
     "name": "stdout",
     "output_type": "stream",
     "text": [
      "Alerta de Asteroide\n"
     ]
    }
   ],
   "source": [
    "# Añadir el código necesario para crear una variable que guarde la velocidad del asteroide.\n",
    "Velocidad_del_asteroide = 49\n",
    "# Escribe una expresión de prueba para calcular si necesita una advertencia.\n",
    "if 25 >= Velocidad_maxima:\n",
    "    print(\"Alerta de Asteroide\")\n",
    "# Agregue las instrucciones que se ejecutarán si la expresión de prueba es true o false.\n",
    "else: \n",
    "    print(\"No hay alerta de Asteroide\")"
   ]
  },
  {
   "cell_type": "code",
   "execution_count": 12,
   "metadata": {},
   "outputs": [
    {
     "name": "stdout",
     "output_type": "stream",
     "text": [
      "Puedes ver una luz en el cielo\n"
     ]
    }
   ],
   "source": [
    "# Agrega el código para crear una variable para un asteroide que viaja a 19 km/s\n",
    "Velocidad_del_asteroide=20\n",
    "# Escribe varias expresiones de prueba para determinar si puedes ver el rayo de luz desde la tierra\n",
    "if Velocidad_del_asteroide >= 20:\n",
    "    print(\"Puedes ver una luz en el cielo\")\n",
    "elif Velocidad_del_asteroide == 20:\n",
    "    print(\"Puedes ver una luz en el cielo\")\n",
    "else:\n",
    "        print(\"No hay nada que ver\")\n",
    "# Agrega las instrucciones que se ejecutarán si las expresiones de prueba son True o False"
   ]
  },
  {
   "cell_type": "code",
   "execution_count": 16,
   "metadata": {},
   "outputs": [
    {
     "name": "stdout",
     "output_type": "stream",
     "text": [
      "Puedes ver una luz en el cielo\n"
     ]
    }
   ],
   "source": [
    "# Agrega el código para crear nuevas variables para la velocidad y el tamaño del asteroide\n",
    "Velocidad_del_Asteroide = 25\n",
    "Tamaño_del_asteroide = 40\n",
    "# Para probar el código, prueba con varias velocidades y tamaños\n",
    "if Velocidad_del_Asteroide > 25 and Tamaño_del_asteroide > 25:\n",
    "    print('Alerta de asteroide')\n",
    "# Escribe varias expresiones de prueba o combinaciones de expresiones de prueba para determinar qué mensaje se debe enviar a Tierra.\n",
    "elif Velocidad_del_Asteroide >= 20:\n",
    "    print('Puedes ver una luz en el cielo')\n",
    "elif Tamaño_del_asteroide < 25:\n",
    "    print('No hay nada que ver ))')\n",
    "else:\n",
    "    print('No hay nada que ver )')"
   ]
  }
 ],
 "metadata": {
  "interpreter": {
   "hash": "0bbe4951efe44d9315ce2c015a8c346c945696cc5782d364813f043959bff0b3"
  },
  "kernelspec": {
   "display_name": "Python 3.10.2 64-bit",
   "language": "python",
   "name": "python3"
  },
  "language_info": {
   "codemirror_mode": {
    "name": "ipython",
    "version": 3
   },
   "file_extension": ".py",
   "mimetype": "text/x-python",
   "name": "python",
   "nbconvert_exporter": "python",
   "pygments_lexer": "ipython3",
   "version": "3.10.2"
  },
  "orig_nbformat": 4
 },
 "nbformat": 4,
 "nbformat_minor": 2
}
